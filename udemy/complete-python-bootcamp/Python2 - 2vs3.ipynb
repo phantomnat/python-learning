{
 "cells": [
  {
   "cell_type": "code",
   "execution_count": 4,
   "metadata": {},
   "outputs": [
    {
     "name": "stdout",
     "output_type": "stream",
     "text": [
      "\n"
     ]
    }
   ],
   "source": [
    "from platform import python_version"
   ]
  },
  {
   "cell_type": "markdown",
   "metadata": {},
   "source": [
    "### 3 Integer Division"
   ]
  },
  {
   "cell_type": "code",
   "execution_count": 5,
   "metadata": {},
   "outputs": [
    {
     "name": "stdout",
     "output_type": "stream",
     "text": [
      "Python 2.7.14\n",
      "3 /  2    = 1\n",
      "3 // 2    = 1\n",
      "3 /  2.0  = 1.5\n",
      "3 // 2.0  = 1.0\n"
     ]
    }
   ],
   "source": [
    "print 'Python', python_version()\n",
    "print '3 /  2    =', 3/2\n",
    "print '3 // 2    =', 3//2\n",
    "print '3 /  2.0  =', 3/2.0\n",
    "print '3 // 2.0  =', 3//2.0"
   ]
  },
  {
   "cell_type": "markdown",
   "metadata": {},
   "source": [
    "### 4 Unicode"
   ]
  },
  {
   "cell_type": "code",
   "execution_count": 13,
   "metadata": {},
   "outputs": [
    {
     "name": "stdout",
     "output_type": "stream",
     "text": [
      "Python 2.7.14\n",
      "strings are not utf-8 \\u03BCnico\\u0394e\n",
      "<type 'unicode'>\n",
      "<type 'str'>\n",
      "<type 'bytearray'>\n"
     ]
    }
   ],
   "source": [
    "print 'Python', python_version()\n",
    "print 'strings are not utf-8 \\u03BCnico\\u0394e'\n",
    "print type(unicode('this is like a python3 str type'))\n",
    "print type(b'byte type dose not exist')\n",
    "print type(bytearray(b'bytearray oddly does exist though'))"
   ]
  },
  {
   "cell_type": "code",
   "execution_count": 14,
   "metadata": {},
   "outputs": [
    {
     "name": "stdout",
     "output_type": "stream",
     "text": [
      "<type 'str'>\n",
      "<type 'str'>\n"
     ]
    }
   ],
   "source": [
    "print(type('default string '))\n",
    "print(type(b'string with b '))"
   ]
  },
  {
   "cell_type": "code",
   "execution_count": 22,
   "metadata": {},
   "outputs": [
    {
     "name": "stdout",
     "output_type": "stream",
     "text": [
      "1 2 3 4 1 2 3 4\n"
     ]
    }
   ],
   "source": [
    "for x in xrange(1, 5):\n",
    "    print(x),\n",
    "\n",
    "for x in range(1, 5):\n",
    "    print(x),"
   ]
  },
  {
   "cell_type": "code",
   "execution_count": 23,
   "metadata": {},
   "outputs": [
    {
     "name": "stdout",
     "output_type": "stream",
     "text": [
      "Python 2.7.14\n",
      "1000 loops, best of 3: 711 µs per loop\n"
     ]
    }
   ],
   "source": [
    "def test_while():\n",
    "    i = 0\n",
    "    while i < 20000:\n",
    "        i += 1\n",
    "    return\n",
    "print 'Python', python_version()\n",
    "%timeit test_while()"
   ]
  },
  {
   "cell_type": "code",
   "execution_count": 24,
   "metadata": {},
   "outputs": [
    {
     "name": "stdout",
     "output_type": "stream",
     "text": [
      "Python 2.7.14\n",
      "The slowest run took 52.41 times longer than the fastest. This could mean that an intermediate result is being cached.\n",
      "1000000 loops, best of 3: 430 ns per loop\n",
      "The slowest run took 6.18 times longer than the fastest. This could mean that an intermediate result is being cached.\n",
      "1000000 loops, best of 3: 320 ns per loop\n",
      "The slowest run took 6.01 times longer than the fastest. This could mean that an intermediate result is being cached.\n",
      "1000000 loops, best of 3: 460 ns per loop\n",
      "The slowest run took 4.06 times longer than the fastest. This could mean that an intermediate result is being cached.\n",
      "1000000 loops, best of 3: 389 ns per loop\n"
     ]
    }
   ],
   "source": [
    "def val_in_range(x, val):\n",
    "    return val in range(x)\n",
    "def val_in_xrange(x, val):\n",
    "    return val in xrange(x)\n",
    "print 'Python', python_version()\n",
    "assert(val_in_xrange(x, x/2.0) == True)\n",
    "assert(val_in_xrange(x, x/2) == True)\n",
    "assert(val_in_range(x, x/2) == True)\n",
    "assert(val_in_range(x, x//2) == True)\n",
    "%timeit val_in_xrange(x, x/2.0)\n",
    "%timeit val_in_xrange(x, x/2)\n",
    "%timeit val_in_range(x, x/2.0)\n",
    "%timeit val_in_range(x, x/2)\n"
   ]
  },
  {
   "cell_type": "markdown",
   "metadata": {},
   "source": [
    "### Raising Exception"
   ]
  },
  {
   "cell_type": "code",
   "execution_count": 25,
   "metadata": {},
   "outputs": [
    {
     "ename": "IOError",
     "evalue": "file error",
     "output_type": "error",
     "traceback": [
      "\u001b[1;31m---------------------------------------------------------------------------\u001b[0m",
      "\u001b[1;31mIOError\u001b[0m                                   Traceback (most recent call last)",
      "\u001b[1;32m<ipython-input-25-25f049caebb0>\u001b[0m in \u001b[0;36m<module>\u001b[1;34m()\u001b[0m\n\u001b[1;32m----> 1\u001b[1;33m \u001b[1;32mraise\u001b[0m \u001b[0mIOError\u001b[0m\u001b[1;33m,\u001b[0m \u001b[1;34m\"file error\"\u001b[0m\u001b[1;33m\u001b[0m\u001b[0m\n\u001b[0m",
      "\u001b[1;31mIOError\u001b[0m: file error"
     ]
    }
   ],
   "source": [
    "raise IOError, \"file error\""
   ]
  },
  {
   "cell_type": "code",
   "execution_count": 26,
   "metadata": {},
   "outputs": [
    {
     "ename": "IOError",
     "evalue": "file error",
     "output_type": "error",
     "traceback": [
      "\u001b[1;31m---------------------------------------------------------------------------\u001b[0m",
      "\u001b[1;31mIOError\u001b[0m                                   Traceback (most recent call last)",
      "\u001b[1;32m<ipython-input-26-6f1c43f525b2>\u001b[0m in \u001b[0;36m<module>\u001b[1;34m()\u001b[0m\n\u001b[1;32m----> 1\u001b[1;33m \u001b[1;32mraise\u001b[0m \u001b[0mIOError\u001b[0m\u001b[1;33m(\u001b[0m\u001b[1;34m\"file error\"\u001b[0m\u001b[1;33m)\u001b[0m\u001b[1;33m\u001b[0m\u001b[0m\n\u001b[0m",
      "\u001b[1;31mIOError\u001b[0m: file error"
     ]
    }
   ],
   "source": [
    "raise IOError(\"file error\")"
   ]
  },
  {
   "cell_type": "code",
   "execution_count": 27,
   "metadata": {},
   "outputs": [
    {
     "name": "stdout",
     "output_type": "stream",
     "text": [
      "Python 2.7.14\n",
      "name 'let_us_cause_a_NameError' is not defined --> our error message\n"
     ]
    }
   ],
   "source": [
    "print 'Python', python_version()\n",
    "try:\n",
    "    let_us_cause_a_NameError\n",
    "except NameError, err:\n",
    "    print err, '--> our error message'"
   ]
  },
  {
   "cell_type": "code",
   "execution_count": 28,
   "metadata": {},
   "outputs": [
    {
     "name": "stdout",
     "output_type": "stream",
     "text": [
      "Python 2.7.14\n",
      "name 'let_us_cause_a_NameError' is not defined --> our error message\n"
     ]
    }
   ],
   "source": [
    "print 'Python', python_version()\n",
    "try:\n",
    "    let_us_cause_a_NameError\n",
    "except NameError as err:\n",
    "    print err, '--> our error message'\n"
   ]
  },
  {
   "cell_type": "code",
   "execution_count": 30,
   "metadata": {},
   "outputs": [
    {
     "name": "stdout",
     "output_type": "stream",
     "text": [
      "Python 2.7.14\n"
     ]
    },
    {
     "data": {
      "text/plain": [
       "'c'"
      ]
     },
     "execution_count": 30,
     "metadata": {},
     "output_type": "execute_result"
    }
   ],
   "source": [
    "print 'Python', python_version()\n",
    "\n",
    "my_generator = (letter for letter in 'abcdefg')\n",
    "\n",
    "next(my_generator)\n",
    "my_generator.next()\n",
    "my_generator.next()"
   ]
  },
  {
   "cell_type": "code",
   "execution_count": null,
   "metadata": {
    "collapsed": true
   },
   "outputs": [],
   "source": []
  }
 ],
 "metadata": {
  "kernelspec": {
   "display_name": "Python 2",
   "language": "python",
   "name": "python2"
  },
  "language_info": {
   "codemirror_mode": {
    "name": "ipython",
    "version": 2
   },
   "file_extension": ".py",
   "mimetype": "text/x-python",
   "name": "python",
   "nbconvert_exporter": "python",
   "pygments_lexer": "ipython2",
   "version": "2.7.14"
  }
 },
 "nbformat": 4,
 "nbformat_minor": 2
}
